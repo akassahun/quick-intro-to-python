{
 "cells": [
  {
   "cell_type": "markdown",
   "metadata": {},
   "source": [
    "# Comments&mdash;Documenting your code\n",
    "\n",
    "A comment is not part of the executable source code but a note (an explanation or an annotation) to document what the code does so that the programmer herself or others make sense the source code easier at later times. In python a comment starts with the hash (`#`) character and extends to the end of the line."
   ]
  },
  {
   "cell_type": "code",
   "execution_count": 2,
   "metadata": {
    "collapsed": false
   },
   "outputs": [
    {
     "name": "stdout",
     "output_type": "stream",
     "text": [
      "The day of the week is: 2\n"
     ]
    }
   ],
   "source": [
    "# The algorithm code calculates the day of the week\n",
    "# given a Gregorian calendar date (such as January 1, 1901) \n",
    "# The calendar date is represented using three variables:\n",
    "# year: year of the calndar date in four digits \n",
    "# month: the month number, january=1, ... december=12\n",
    "# day: the day number 1 ...31 \n",
    "year=1901\n",
    "month=1\n",
    "day=1\n",
    "\n",
    "# The values a, y and m are intermediate values.\n",
    "# the variables y and m should not be confused with the year and month\n",
    "a = (14 - month) / 12\n",
    "y = year + 4800 - a;\n",
    "m = month + 12 * a - 3;\n",
    "\n",
    "# Given the day and the three intermediate values \n",
    "# the following formula calculates the week day\n",
    "# 0 is Sunday, 1 Monday, 2 Tuesday, etc.\n",
    "weekday = (day + (153*m+2)/5 + 365*y + y/4 - y/100 + y/400 + 2) % 7\n",
    "print \"The day of the week is:\", weekday\n"
   ]
  },
  {
   "cell_type": "markdown",
   "metadata": {},
   "source": [
    " [Variables](1.2.variables.ipynb) :Previous <-- [ToC](1.start.ipynb) --> Next: [Control statements](1.4.control.ipynb)"
   ]
  }
 ],
 "metadata": {
  "kernelspec": {
   "display_name": "Python 2",
   "language": "python",
   "name": "python2"
  },
  "language_info": {
   "codemirror_mode": {
    "name": "ipython",
    "version": 2
   },
   "file_extension": ".py",
   "mimetype": "text/x-python",
   "name": "python",
   "nbconvert_exporter": "python",
   "pygments_lexer": "ipython2",
   "version": "2.7.6"
  }
 },
 "nbformat": 4,
 "nbformat_minor": 1
}
