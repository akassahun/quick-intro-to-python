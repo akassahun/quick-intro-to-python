{
 "cells": [
  {
   "cell_type": "markdown",
   "metadata": {},
   "source": [
    "# File input and output\n",
    "To read data from a file we use the following code:\n",
    "\n",
    "An example:\n",
    "```python\n",
    "# define a variable\n",
    "data = ''\n",
    "\n",
    "dataFile = open(\"fileName\", 'r')\n",
    "\n",
    "# read data line by line\n",
    "for line in dataFile:\n",
    "    # do some things with the line\n",
    "dataFile.close()\n",
    "```"
   ]
  },
  {
   "cell_type": "code",
   "execution_count": null,
   "metadata": {
    "collapsed": false
   },
   "outputs": [],
   "source": [
    "# Open the data file for reading ('r')\n",
    "dataFile = open('data/knmi1901-2016-deBilt.txt', 'r')\n",
    "\n",
    "# It is a large file, and we don't want to read everything\n",
    "# Therefore, we use a counter to limit the number of lines read\n",
    "count = 0\n",
    "\n",
    "# read data line by line\n",
    "for line in dataFile:\n",
    "    count = count + 1\n",
    "    print line\n",
    "    \n",
    "    if count >= 3: # Reads the first three lines Remove to read it all!\n",
    "        break\n",
    "        \n",
    "dataFile.close()"
   ]
  },
  {
   "cell_type": "markdown",
   "metadata": {},
   "source": [
    "To write data to a file we use the following code:\n",
    "\n",
    "An example:\n",
    "```python\n",
    "dataFile = open(\"fileName\", 'w')\n",
    "\n",
    "\n",
    "dataFile.write('Line one\\n')\n",
    "dataFile.write('Line two\\n')\n",
    "...\n",
    "dataFile.close()\n",
    "```"
   ]
  },
  {
   "cell_type": "code",
   "execution_count": null,
   "metadata": {
    "collapsed": false
   },
   "outputs": [],
   "source": [
    "dataFile = open(\"output/result-tutorial0.txt\", 'w')\n",
    "\n",
    "\n",
    "dataFile.write('Line one\\n')\n",
    "dataFile.write('Line two\\n')\n",
    "\n",
    "dataFile.close()"
   ]
  },
  {
   "cell_type": "markdown",
   "metadata": {},
   "source": [
    "Check the [folder `output` on your system](output/). A file named `result-tutorial0.txt` was created!"
   ]
  },
  {
   "cell_type": "markdown",
   "metadata": {},
   "source": [
    "Previous: [Text processing](1.6.text.ipynb)<-- [ToC](1.start.ipynb) --> [Challenge](1.8.challenge.ipynb)"
   ]
  }
 ],
 "metadata": {
  "kernelspec": {
   "display_name": "Python 2",
   "language": "python",
   "name": "python2"
  },
  "language_info": {
   "codemirror_mode": {
    "name": "ipython",
    "version": 2
   },
   "file_extension": ".py",
   "mimetype": "text/x-python",
   "name": "python",
   "nbconvert_exporter": "python",
   "pygments_lexer": "ipython2",
   "version": "2.7.6"
  }
 },
 "nbformat": 4,
 "nbformat_minor": 1
}
