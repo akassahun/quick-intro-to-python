{
 "cells": [
  {
   "cell_type": "markdown",
   "metadata": {},
   "source": [
    "# Processing text\n",
    "\n",
    "Python is very good at string processing. We have introduced the `str` type, and we have also used the split method of a `str` object. But `str` has many more useful methods.\n",
    "\n",
    "<u>Some ofthe methods that operate on string objects </u>\n",
    "\n",
    "*Method*             | *Description*  \n",
    "--------------------:|--------------\n",
    "`split(sep)`         | Returns a list of the words in the string, using sep as the delimiter string. E.g. `\"1,2,3\".split(',') => [\"1\", \"2\", \"3\"]`\n",
    "`strip()`            | Returns a copy of the string with leading and trailing characters (spaces, tabs, newlines) removed. E.g. `\"   250, \".strip() => \"250,\"`\n",
    "`join(words)`        | Concatenates a list of words using the string as a separator. E.g. `\",\".join([\"1\", \"2\", \"3\"]) => \"1,2,3\".` \n",
    "`startswith(prefix)` | Checks whether the string starts with the specified prefix, and if it does returns True; otherwise it returns False. E.g. `\"   250,\".startswith(\"250\") => False`\n",
    "`endswith(suffix)`   | Checks whether the string ends with the specified suffix, and if it does returns True; otherwise it returns False. E.g. `\"   250,\".startswith(\",\") => True`\n",
    "`find(sub)`          | Finds the index (position) where a substring occurs for the first time and returns the index if it found sub; otherwise it return -1 to signify it did not find the sub. E.g. `\"   250, \".find(\"250\") => 2`, `\"   250, \".find(\"260\") => -1`\n",
    "`index(sub)`         | Gives the index (position) where a sub occurs for the first time and returns the index. It raises exception if sub is not found. E.g. `\"   250, \".index(\"250\") => 2`, `\"   250, \".index(\"260\") => Exception...` \n",
    "`replace(old, new)`  | Return a new string where in all occurrences of old are replaced by new. E.g. `\"   250, \".replace(\"250\", \"260\") => \"   260, \"2` \n",
    "`lower()`            | Converts the string to all lower case. \n",
    "`upper()`            | Converts the string to all upper case.\n",
    "`count(sub)`         | Count the occurrences of a sub in the string. \n",
    "\n",
    "As shown in put previous example (`deBilt_2015_11_02.split(',')`) to apply the `str` methods you first specify the value (as in **\"   250, \"**.find(\"260\")) or the variable (**deBilt_2015_11_02**.split(',')), followed by a period (.), followed by the method.\n",
    "\n",
    "The variable represents in this case the “object” the method operates on. The type of the object (in this case `str`) determines which methods are available. If, for instance, the variable is an `int`, then the above methods do not apply to the object of the variable.\n",
    "\n",
    "After the name of the method, you specify arguments between parentheses – or only parentheses when the method needs no arguments. For instance, `lower()` and `upper()` do not reqiure argument, but the `replace(old, new)` method does require arguments. \n"
   ]
  },
  {
   "cell_type": "code",
   "execution_count": null,
   "metadata": {
    "collapsed": true
   },
   "outputs": [],
   "source": [
    "# Experiment below with the above methods\n",
    "\n"
   ]
  },
  {
   "cell_type": "markdown",
   "metadata": {},
   "source": [
    "Previous: [Functions,Modules,Objects](1.5.functions.ipynb)<-- [ToC](1.start.ipynb) --> Next: [Files](1.7.files.ipynb)"
   ]
  }
 ],
 "metadata": {
  "kernelspec": {
   "display_name": "Python 2",
   "language": "python",
   "name": "python2"
  },
  "language_info": {
   "codemirror_mode": {
    "name": "ipython",
    "version": 2
   },
   "file_extension": ".py",
   "mimetype": "text/x-python",
   "name": "python",
   "nbconvert_exporter": "python",
   "pygments_lexer": "ipython2",
   "version": "2.7.6"
  }
 },
 "nbformat": 4,
 "nbformat_minor": 1
}
