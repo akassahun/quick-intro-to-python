{
 "cells": [
  {
   "cell_type": "markdown",
   "metadata": {},
   "source": [
    "# Variables and assignment statements\n",
    "\n",
    "To manipulate climate data, such as converting the temprature given in a tenth of degrees centigrades (24 &#8530;&deg;C) to just degrees centigrades (2.4&deg;C) we must first store the original value (24) and convert it and assign it again to a variable (so that we can use it later on). How do we store values?  \n",
    "\n",
    "> *A **variable** is symbolic name (a label, an identifier), which is used to refer to a data item. (A variable is like a name: it will be difficult for us to refer to each other if we did not have names.) The data type of a variable in python is determined by the data value it refers to.*\n",
    "\n",
    "> *A **statement** is a command formulated using variables, operators, etc. (comparable to a sentence in English language) that expresses an action to be carried out.* \n",
    "\n",
    "> *An **assignment statement** is a statement that stores a value in a variable. An assignment statement contains a variable (sometimes more than one variable) followed by an equal sign (=), followed by an expression. The variable 'receives' the value computed by the expression. The equal sign is called an **assignment operator**.*\n",
    "\n",
    "## Rules for variable names\n",
    "We all have names, and there are certain rules that apply to our (human) names. For instance, names like Jane or John are acceptable, but not not x2000. There are also rules for valid variable names. \n",
    "> A  valid python variable name may contain a string of uppercase and lowercase letters (a..z and A..Z), an underscore (_), and, except for the first character, digits (0..9).\n",
    "\n",
    "Therefore, `x2000` is a valid variable name. `2000x` is not a valid variable name because it starts with a digit. `x 2000` is also not a valid variable name because it contains a space (between the letter x and the digit 2).  \n",
    "\n",
    "<hr>"
   ]
  },
  {
   "cell_type": "code",
   "execution_count": null,
   "metadata": {
    "collapsed": false
   },
   "outputs": [],
   "source": [
    "# Try some variables\n",
    "tmp = 24  # The temprature at De Bilt on Jan. 1st 1901 in a tenth of deg. C.\n",
    "\n",
    "# convert it to degree Centigrades \n",
    "tmp = tmp * 0.1\n",
    "\n",
    "print \"The temprature at De Bilt on Jan. 1st 1901 is\", tmp, \"degree Celsius\"\n",
    "\n",
    "# What was the temparature on degree Kelvin, enter your code below\n",
    "\n"
   ]
  },
  {
   "cell_type": "markdown",
   "metadata": {},
   "source": [
    "Why do we need variables, seriously? \n",
    "\n",
    "We use Python not only as a calculator but mainly to do some serious, complex, computations. Complex computations are best done step-by-step, and at each step the values have to be stored and called back. To store a value and call it back again we use a variable.\n",
    "\n",
    "A variable is used in a statement in one of the two ways. \n",
    "1. *A variable is assigned a value, in which case it is placed before the assignment operator (`=`); or*\n",
    "2. *A variable provides the value it stored, in which case it is used in the expression that is placed in the right-hand side of the assignment operator.* \n",
    "\n",
    "Below is <a href=\"https://github.com/ruby/ruby/blob/5396d8a1ab52b4da4f5199109472fe7f8ea43085/time.c#L1260\">an algorithm</a> (one of several algorithms out there) to compute the day of the week.\n",
    "\n",
    "The algorithm uses variables to simplify a relatively complex formula. The formula computes the day of the week (Monday, Tuesday, etc.) given a calendar date (given the day, month, and year of the calendar date).\n",
    "\n",
    "The algorithm contains four statements. Without variables we would have to express the formula at once (without steps), which could be  more difficult. Below is the algorithm: \n",
    "\n",
    "```python\n",
    "a = (14 - month) / 12\n",
    "y = year + 4800 - a;\n",
    "m = month + 12 * a - 3;\n",
    "weekday = (day + (153*m+2)/5 + 365*y + y/4 - y/100 + y/400 + 2) % 7\n",
    "```\n",
    "(weekday 0 is Sunday, 1 Monday, 2 Tuesday, etc.)\n",
    "\n",
    "In the following code we use variables to store the values of the `day`, `month` and `year` values; we then calculate the intermediate values `a`, `y` and `m`; finally, we calculate the day of the week.\n",
    "\n",
    "What day of the week was the 1<sup>st</sup> of January 1901?\n"
   ]
  },
  {
   "cell_type": "code",
   "execution_count": null,
   "metadata": {
    "collapsed": false
   },
   "outputs": [],
   "source": [
    "year=1901\n",
    "month=1\n",
    "day=1\n",
    " \n",
    "a = (14 - month) / 12\n",
    "y = year + 4800 - a;\n",
    "m = month + 12 * a - 3;\n",
    "\n",
    "weekday = (day + (153*m+2)/5 + 365*y + y/4 - y/100 + y/400 + 2) % 7\n",
    "\n",
    "print \"Day of the week is:\", weekday\n"
   ]
  },
  {
   "cell_type": "markdown",
   "metadata": {},
   "source": [
    "The 1<sup>st</sup> of January 1901 was a **Tuesday** (weekday=2)! "
   ]
  },
  {
   "cell_type": "markdown",
   "metadata": {},
   "source": [
    "[Data types](1.1.datatypes.ipynb) :Previous <-- [ToC](1.start.ipynb) --> Next: [Comments](1.3.omments.ipynb)"
   ]
  }
 ],
 "metadata": {
  "kernelspec": {
   "display_name": "Python 2",
   "language": "python",
   "name": "python2"
  },
  "language_info": {
   "codemirror_mode": {
    "name": "ipython",
    "version": 2
   },
   "file_extension": ".py",
   "mimetype": "text/x-python",
   "name": "python",
   "nbconvert_exporter": "python",
   "pygments_lexer": "ipython2",
   "version": "2.7.6"
  }
 },
 "nbformat": 4,
 "nbformat_minor": 1
}
