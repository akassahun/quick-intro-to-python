{
 "cells": [
  {
   "cell_type": "markdown",
   "metadata": {},
   "source": [
    "# Functions, Modules, Objects\n",
    "\n",
    "Each line of our climate dataset contains comma separated values. To use the values we must first split the data into individual values. There are a number of way of doing that. The easiest way is to use an already programmed code that takes the entire line and splits it for us. To undestand how such pre-programmed pieces of software works, we need to in intriduce functions, modules and objects:  \n",
    "\n",
    "- A **function** is a self-contained set of program statements that has a name, takes in predefined data inputs, process it and returns predefined outputs. In python functions are signalled by the keyword def, the pre-defined inputs variable are called parameters and the outputs are provided using the keyword return. \n",
    "\n",
    "- A **module** is a file consisting of python code, which can consist of variable definitions, functions, and other types of code.\n",
    "\n",
    "- A **built-in** refers to data types, variables, functions, etc. that are part of python and for which you do not have to specify the module in which they are defined in order to use them.\n",
    "\n",
    "An object is variables for holding data with the associated functions bundled together. The functions are usually referred to as the methods of the object. \n",
    "\n",
    "<hr>\n",
    "\n",
    "Below is the summary of the widely used—and the one we will soon need—built-in functions.\n",
    "\n",
    "<u>Some built-in functions</u>\n",
    "\n",
    "*Function*     | *Description*  \n",
    "--------------:|--------------\n",
    "`range(n)`     | Generates and returns a list of numbers from 0 to n-1. E.g. range(5) => [0, 1, 2, 3, 4]. `range` is often used in `for` loops.\n",
    "`raw_input(p)` | Read a one line textual data from keyboard. The prompt `p` is an instruction to the user what the user should enter.\n",
    "`open(f)`      | Opens the file `f` for reading data from or for writing data into. \n",
    "`min(l)`       | Returns the smallest item of the given list `l`. E.g. min([0, 1, 2, 3, 4]) => 0 \n",
    "`max(l)`       | Returns the largest item of the given list `l`. E.g. max([0, 1, 2, 3, 4]) => 4 \n",
    "`len(l)`       | Returns the number of items in the given list `l`. E.g. len([0, 1, 2, 3, 4]) => 5 \n",
    "\n",
    "The `range` and `len` functions are oftne used in combination with the `for` loop: "
   ]
  },
  {
   "cell_type": "code",
   "execution_count": 20,
   "metadata": {
    "collapsed": false
   },
   "outputs": [
    {
     "name": "stdout",
     "output_type": "stream",
     "text": [
      "0 Sunday\n",
      "1 Monday\n",
      "2 Tuesday\n",
      "3 Wednesday\n",
      "4 Thursday\n",
      "5 Friday\n",
      "6 Saturday\n"
     ]
    }
   ],
   "source": [
    "daysOfWeek = ['Sunday',\n",
    "              'Monday',\n",
    "              'Tuesday',\n",
    "              'Wednesday',\n",
    "              'Thursday',\n",
    "              'Friday',\n",
    "              'Saturday']\n",
    "\n",
    "for index in range(len(daysOfWeek)):\n",
    "    print index, daysOfWeek[index]"
   ]
  },
  {
   "cell_type": "markdown",
   "metadata": {},
   "source": [
    "<hr>\n",
    "Besides the so-called built-in functions python includes many modules which we should explicitly \"import\" in order to use them. One of the widely-used modules is the math module. Importing module math looks like:\n",
    "```python\n",
    "import math\n",
    "```\n",
    "The functions and variables of a module are used by prefixing \"math.\" to the name of the function or the variable defined in the module. \n",
    "\n",
    "For instance, the value of the mathematical constant π is defined as pi in the \"math\" module. Therefore, to use π we write math.pi.\n",
    "\n",
    "What is the value of π in python?"
   ]
  },
  {
   "cell_type": "code",
   "execution_count": 21,
   "metadata": {
    "collapsed": false
   },
   "outputs": [
    {
     "name": "stdout",
     "output_type": "stream",
     "text": [
      "PI = 3.14159265359\n"
     ]
    }
   ],
   "source": [
    "import math\n",
    "\n",
    "print \"PI =\", math.pi"
   ]
  },
  {
   "cell_type": "markdown",
   "metadata": {},
   "source": [
    "What is the area of a circle with radius 30 cm?"
   ]
  },
  {
   "cell_type": "code",
   "execution_count": 22,
   "metadata": {
    "collapsed": true
   },
   "outputs": [],
   "source": [
    "import math\n",
    "\n",
    "r = 30\n",
    "\n",
    "# Enter you code below\n"
   ]
  },
  {
   "cell_type": "markdown",
   "metadata": {},
   "source": [
    "<hr>\n",
    "In python all variables are considered to be objects, meaning they have number of associated functions (methods) that can be operated on them.\n",
    "\n",
    "The most widely used objects are strings (of type `str`), such as the wheather data for a given date. An example of is given below:\n",
    "```python\n",
    "deBilt_2015_11_02=\"260,20151102,105,14,17,40,14,10,1,60,13,69,9,7\"\n",
    "```\n",
    "The `str` data values have a built in `split()` method which we can use to split the comma separated value into indovodual values. \n",
    "\n",
    "Below we split the comma separated values (csv) of deBilt_2015_11_02 from our climate data set into the individual values. Note also how we included comments and the four loop."
   ]
  },
  {
   "cell_type": "code",
   "execution_count": 23,
   "metadata": {
    "collapsed": false
   },
   "outputs": [
    {
     "name": "stdout",
     "output_type": "stream",
     "text": [
      "['260', '20151102', '105', '14', '17', '40', '14', '10', '1', '60', '13', '69', '9', '7']\n",
      "Printing the values with thier names\n",
      "YYYYMMDD : 260\n",
      "DDVEC : 20151102\n",
      "FHVEC : 105\n",
      "FG : 14\n",
      "FHX : 17\n",
      "FHXH : 40\n",
      "FHN : 14\n",
      "FHNH : 10\n",
      "FXX : 1\n",
      "FXXH : 60\n",
      "TG : 13\n",
      "TN : 69\n",
      "TNH : 9\n",
      "TX : 7\n"
     ]
    }
   ],
   "source": [
    "# Header data without documentation\n",
    "header1=['YYYYMMDD', # Date (YYYY=year MM=month DD=day) \n",
    "         'DDVEC',    # Vector mean wind direction in degrees \n",
    "                     # (360=N,90=E,180=S,270=W,0=calm/variable) \n",
    "         'FHVEC',    # Vector mean windspeed (in 0.1 m/s)\n",
    "         'FG',       # Daily mean windspeed (in 0.1 m/s)\n",
    "         'FHX',      # Maximum hourly mean windspeed (in 0.1 m/s)\n",
    "         'FHXH',     # Hourly division in which FHX was measured\n",
    "         'FHN',      # Minimum hourly mean windspeed (in 0.1 m/s)\n",
    "         'FHNH',     # Hourly division in which FHN was measured\n",
    "         'FXX',      # Maximum wind gust (in 0.1 m/s)\n",
    "         'FXXH',     # Hourly division in which FXX was measured\n",
    "         'TG',       # Daily mean temperature in (0.1 degrees Celsius)\n",
    "         'TN',       # Minimum temperature (in 0.1 degrees Celsius)\n",
    "         'TNH',      # Hourly division in which TN was measured \n",
    "         'TX'        # Maximum temperature (in 0.1 degrees Celsius\n",
    "       ]\n",
    "\n",
    "# Header data without documentation\n",
    "header2=['YYYYMMDD', 'DDVEC', 'FHVEC', 'FG', 'FHX', 'FHXH', 'FHN',\n",
    "         'FHNH', 'FXX', 'FXXH', 'TG', 'TN', 'TNH', 'TX']\n",
    "\n",
    "deBilt_2015_11_02=\"260,20151102,105,14,17,40,14,10,1,60,13,69,9,7\"\n",
    "values = deBilt_2015_11_02.split(',')\n",
    "\n",
    "print values\n",
    "\n",
    "# But we could also print the values against thier names\n",
    "print 'Printing the values with thier names'\n",
    "for i in range(len(header2)):\n",
    "    print header2[i], ':', values[i]"
   ]
  },
  {
   "cell_type": "markdown",
   "metadata": {},
   "source": [
    "Previous: [Control statements](1.4.control.ipynb)<-- [ToC](1.start.ipynb) --> Next: [Text processing](1.6.text.ipynb)"
   ]
  }
 ],
 "metadata": {
  "kernelspec": {
   "display_name": "Python 2",
   "language": "python",
   "name": "python2"
  },
  "language_info": {
   "codemirror_mode": {
    "name": "ipython",
    "version": 2
   },
   "file_extension": ".py",
   "mimetype": "text/x-python",
   "name": "python",
   "nbconvert_exporter": "python",
   "pygments_lexer": "ipython2",
   "version": "2.7.6"
  }
 },
 "nbformat": 4,
 "nbformat_minor": 1
}
