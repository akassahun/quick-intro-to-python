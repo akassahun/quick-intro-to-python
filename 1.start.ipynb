{
 "cells": [
  {
   "cell_type": "markdown",
   "metadata": {},
   "source": [
    "# A short introduction to Python\n",
    "\n",
    "This tutorial aims to introduce you to the basics of the Python programing language. At the end, you will have the basic Python programing skills, and --most important-- you will have the skills that enable you to follow the rest of this course. \n",
    "\n",
    "In order to write simple programs you need at least to know the following concepts, to which we will introduce you in this tutorial: \n",
    "1.\t[Data types, operators and expressions](1.1.datatypes.ipynb)\n",
    "2.\t[Variables and assignment statements](1.2.variables.ipynb)\n",
    "3. [Documenting your code, Comments](1.3.omments.ipynb)\n",
    "4. [Control statements](1.4.control.ipynb)\n",
    "5. [Functions,Modules,Objects](1.5.functions.ipynb)\n",
    "6. [Text processing](1.6.text.ipynb)\n",
    "7. [File input and output](1.7.files.ipynb)\n",
    "\n",
    "We explain the above concepts with the help of a case study with an accompanying data set. At the end of the Tutorial there is a [Challenge](Tutorial0i_Challenge.ipynb). \n",
    "You *should* be able to complete it by the end of the day!\n",
    "\n",
    "If you have questions or problems, do not hesitate asking any of the teachers.\n"
   ]
  },
  {
   "cell_type": "markdown",
   "metadata": {},
   "source": [
    "# Case study\n",
    "\n",
    "Though the debate is still going on, many scientists provide countless evidence that global warming is real. *How do scientists make their case?* Climate scientists (but also other scientists and practitioners) use data to prove or disprove claims or discover new facts. That is also the essence of the Big Data course.\n",
    "\n",
    "In this (and subsequent) tutorial we process a data set in the same manner experts process theirs. We do so using a relatively large climate data containing a daily weather data gathered from 37 Dutch weather stations from January 1<sup>st</sup>, 1901 until January 1<sup>st</sup>, 2016. \n",
    "\n",
    "The file consists 633.997 lines of text. \n",
    "\n",
    "* Lines 1-85 contains the description of the data set. \n",
    "* Lines 5-42 list the ID's and the names of the weather stations. \n",
    "* Lines 44-83 describe the data values, i.e. they describe the columns. \n",
    "* Line 85 is the column heading, i.e. the column names. \n",
    "* Finally, lines 86-633997 contain the actual data values. \n",
    "\n",
    "* Each line contains 40 data values separated by a comma. The first value is the station number, the second is the calender date, the remaining 38 values are weather data values, such as wind speed, minimum and maximum temperature, *etc.* The file size is approximately 150 MB (a size that is difficult to work with using a text editor or Excel.)\n",
    "\n",
    "The table below shows a small snippet of the data set. \n",
    "![alt text](dataset.png \"Data set\")\n",
    "\n",
    "To understand what the data set constitutes let’s consider the data at line 131529. STN=260 states that the STN (the ID of the weather station) is 260, which is De Bilt (see line 15). YYYYMMDD=19010101 states that the YYYYMMDD (i.e. the Year, Month and Day that the data line represents, see line 44) is January 1<sup>st</sup>, 1901 (01, 01, 1901). The values for DDVEC, FHVEC, and FG are missing for the given date. The three dots (...) indicate that we have skipped a number of columns. TX=24 states that the TX (i.e. the maximum temperature in a tenth of degrees Celsius, see line 57) is -24, which is:\n",
    "-24/10=-2.4&deg;C.\n"
   ]
  },
  {
   "cell_type": "markdown",
   "metadata": {},
   "source": [
    "# Trivia\n",
    "## What is a computer program anyway?\n",
    "> A computer program is a set of instructions that performs a specific computing task, such as calculation, text processing, image processing, *etc.* A computer program is writen in a programing language that defines the rules of the program. \n"
   ]
  },
  {
   "cell_type": "markdown",
   "metadata": {},
   "source": [
    "## What is Python?\n",
    "Python is said to be named after the British comedy group Monty Python. It is a very popular programming language among among scientists and researchers, apparently becuase it is easy and effective. Python programs can be very simple (as you will soon see) but they can also very complex solving complex problems.\n",
    "\n",
    "Let's see a couple of simple examples. The following program prints the famous \"Hello world!\" string on the screen. "
   ]
  },
  {
   "cell_type": "markdown",
   "metadata": {},
   "source": [
    "# About this workbook\n",
    "\n",
    "This is an interactive learning environment, that mixes intructions and cose snippets in a single environment. \n",
    "There are cells with instructions like this one. There are also cells with code in Python that can be executed. Code cells feature `In [ ]` on their left.\n",
    "\n",
    "> You can edit the cells below and execute the code by selecting the cell and press Shift-Enter. Code completion is supported by using Tab key. \n"
   ]
  },
  {
   "cell_type": "code",
   "execution_count": 1,
   "metadata": {
    "collapsed": false
   },
   "outputs": [
    {
     "name": "stdout",
     "output_type": "stream",
     "text": [
      "Hello world\n"
     ]
    }
   ],
   "source": [
    "# Point-click to this cell with your mouse and then press Shift-Enter \n",
    "# The following (Python) code will be evaluated, and you can see the result below\n",
    "print \"Hello world\" "
   ]
  },
  {
   "cell_type": "markdown",
   "metadata": {},
   "source": [
    "You can also use python as a <a href=\"https://docs.python.org/2/tutorial/introduction.html#using-python-as-a-calculator\" target=\"_blank\">simple calculator!</a>\n",
    "(Experiment with simple calculations by changing 3 + 4 with your own expressions.) "
   ]
  },
  {
   "cell_type": "code",
   "execution_count": 2,
   "metadata": {
    "collapsed": false
   },
   "outputs": [
    {
     "data": {
      "text/plain": [
       "7"
      ]
     },
     "execution_count": 2,
     "metadata": {},
     "output_type": "execute_result"
    }
   ],
   "source": [
    "3+4"
   ]
  },
  {
   "cell_type": "code",
   "execution_count": null,
   "metadata": {
    "collapsed": true
   },
   "outputs": [],
   "source": []
  }
 ],
 "metadata": {
  "kernelspec": {
   "display_name": "Python 2",
   "language": "python",
   "name": "python2"
  },
  "language_info": {
   "codemirror_mode": {
    "name": "ipython",
    "version": 2
   },
   "file_extension": ".py",
   "mimetype": "text/x-python",
   "name": "python",
   "nbconvert_exporter": "python",
   "pygments_lexer": "ipython2",
   "version": "2.7.6"
  }
 },
 "nbformat": 4,
 "nbformat_minor": 1
}
