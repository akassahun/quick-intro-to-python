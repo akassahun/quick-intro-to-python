{
 "cells": [
  {
   "cell_type": "markdown",
   "metadata": {
    "collapsed": true
   },
   "source": [
    "# Data types, operators, expressions \n",
    "\n",
    "Our climate data contains various types of data, such as temprature (24), date (January 1<sup>st</sup>, 1901), station name (De Bilt). How do we represent these values and operate on them using python? Before we answer this questions let's first provide a working defintion of the concepts. \n",
    "\n",
    "> *A **data type** specifies the characteristics of a data value. A data type defines how data values of the given data type are interpreted and operated on by the computer.*\n",
    "\n",
    "> *An **operator** is a character (a sign or symbol) that represents an action. Many of arithmetic operators we know from maths, such as addition and multiplications, are used in programming, sometimes with a slightly different meaning.*\n",
    "\n",
    "> *An **expression** is sequence operators and values that result in a new value (like a mathematical expression).*  \n",
    "\n",
    "<hr>"
   ]
  },
  {
   "cell_type": "markdown",
   "metadata": {},
   "source": [
    "### Numeric types\n",
    "As in mathematics, programming languages differentiate between data types. In math, there are many types of numbers, such as natural numbers, integers, real numbers, decimal numbers, complex numbers, binary numbers, etc. In Python there are four numerical data types: `int`, `float`, `long`, `complex` (fortunately, far limited than in maths).\n",
    "\n",
    "* `int` represents integers. In maths, an integer is infinite. In python the largest positive and negative `int` values are limited by the memory space the computer reserves for `int` values. In a 32 bits computer systems the minimum `int` value is –2<sup>31</sup> and the maximum `int` value is 2<sup>31</sup>-1; in a 64 bits computer systems the minimum `int` value is –2<sup>63</sup> and the maximum `int` value is 2<sup>63</sup>-1.\n",
    "\n",
    "* `float` represents decimal numbers.\n",
    "\n",
    "We ignore `complex` and `long` numbers in this tutorial.\n",
    "\n",
    "Entering numbers into computers is of limited use unless we do some computation with them. To compute we need operators. In python several operators are defined, which can be grouped into *numerical*, *comparison* and *boolean* operators. Below are the most common numerical opertors:\n",
    "\n",
    "*Operator* | *Description*  \n",
    "----:|---\n",
    "`+`  | Addition: arithmetic “plus”  \t\n",
    "`-`  | Subtraction: arithmetic “minus” \n",
    "`*`  | Multiplication: arithmetic “times”. Note that the sign star “*” is used instead of the standard multiplication sign (×) for the sake of legibility.\n",
    "`/`  | Floor division: arithmetic “divide” that rounds down (cuts of the part after the period). Note the forward slash is used instead of the division sign (&divide;) for the sake of simplifying coding. (There is no &divide; key on the keyboard!).\n",
    "`%`\t | Remainder: the remainder after integer division: a % b = (a / b – a // b) * b. For example, 5 % 3 = 2.\n",
    "`**` | Exponentiation: arithmetic “to the power”: a `**` b is “a to the power b. Note that two stars (`**`) are used instead of <sup>superscripting</sup>, again for the sake of simplifying coding. For example, 2 `**` 3 = 8.\n",
    "\n",
    "Now, let's use numeric types (`int` and `float`) and operators. \n",
    "\n",
    "How many seconds have passed since January 1st 1901 until January 1st 2016 (approximately)? \n",
    "* What is the resulting data type? \n",
    "* Can you tell if you are using a 32 bits or a 64 bits computer from the result?\n",
    "* What would have been the result if you were using a 32/64 (whichever applies) computer?"
   ]
  },
  {
   "cell_type": "code",
   "execution_count": null,
   "metadata": {
    "collapsed": false
   },
   "outputs": [],
   "source": [
    "(2016-1901)*365*24*60*60"
   ]
  },
  {
   "cell_type": "code",
   "execution_count": null,
   "metadata": {
    "collapsed": false
   },
   "outputs": [],
   "source": [
    "# See the difference between\n",
    "print 5/4\n",
    "# and\n",
    "print 5.0/4"
   ]
  },
  {
   "cell_type": "markdown",
   "metadata": {},
   "source": [
    "What was the temperature at De Bilt on the 1<sup>st</sup> of January 1901 in &deg;C?\n",
    "\n",
    "Go back to the [Case study description](1.start.ipynb#Case-study):  \n",
    "See the value under the column TX and line number 131529 of the table\n",
    "and lookup in line 57 the unit used for temprature. \n",
    "Then, calcuate the answer in the cell below."
   ]
  },
  {
   "cell_type": "code",
   "execution_count": null,
   "metadata": {
    "collapsed": false
   },
   "outputs": [],
   "source": [
    "# Enter your code below\n"
   ]
  },
  {
   "cell_type": "markdown",
   "metadata": {},
   "source": [
    "### Datatypes of expressions\n",
    "What is the data type of the result?\n",
    "\n",
    "You can also use the following method to check the data type:\n",
    "```python\n",
    "type(expression)\n",
    "```"
   ]
  },
  {
   "cell_type": "code",
   "execution_count": null,
   "metadata": {
    "collapsed": false
   },
   "outputs": [],
   "source": [
    "# e.g. What is the type of the expression 3+4:\n",
    "type(3+4)"
   ]
  },
  {
   "cell_type": "markdown",
   "metadata": {},
   "source": [
    "### The `str` data type\n",
    "\n",
    "Another very useful data type is that of textual data, or a string of characters.  \n",
    "*`str` represents a string of characters. In Python, a `str` value is specified by bounding both ends of the string of characters with a single quote (', an apostrophe), or with a double quote (\") character—but don’t start mix the two. \n",
    "We use quotes as a means of telling the computer the type  of the value is `str`.*\n",
    "\n",
    "Play around with the example below```python\n",
    "'This is a string data   '\n",
    "```\n",
    "this too is the same `str` data:\n",
    "```python\n",
    "\"This is a string data   \"\n",
    "```"
   ]
  },
  {
   "cell_type": "code",
   "execution_count": null,
   "metadata": {
    "collapsed": false
   },
   "outputs": [],
   "source": [
    "\"This is a string data   \""
   ]
  },
  {
   "cell_type": "code",
   "execution_count": null,
   "metadata": {
    "collapsed": false
   },
   "outputs": [],
   "source": [
    "'Welcome to this course'"
   ]
  },
  {
   "cell_type": "code",
   "execution_count": null,
   "metadata": {
    "collapsed": false
   },
   "outputs": [],
   "source": [
    "\"I dont see any problem do you?'"
   ]
  },
  {
   "cell_type": "markdown",
   "metadata": {},
   "source": [
    "In the cell above, you see how Python complains when it finds a mistake."
   ]
  },
  {
   "cell_type": "markdown",
   "metadata": {},
   "source": [
    "Note that when you excute the previous code which we entered using double quote, python prints it out using single quotes. The string remains the same since the delimiting quotes are not part of the string.\n",
    "\n",
    "Operators can be used with string too. \n",
    "\n",
    "Exercise: \n",
    "```python\n",
    "#What is the result of this expression?\n",
    "'3' + '4'\n",
    "\n",
    "# And what is the difference with:\n",
    "3 + 4\n",
    "```"
   ]
  },
  {
   "cell_type": "code",
   "execution_count": null,
   "metadata": {
    "collapsed": false
   },
   "outputs": [],
   "source": [
    "# Try the above expressions below\n"
   ]
  },
  {
   "cell_type": "markdown",
   "metadata": {},
   "source": [
    "**Special cases**\n",
    "\n",
    "The problem with strings is that we can't represent them all between matching single quotes (`'`) or double quotes (`\"`). \n",
    "\n",
    "For instance how can we type a string that contains single quotes (`'`) if the the quotes are used a delimiter? Also, how can we represent new lines, special characters that are not on our keyboard?\n",
    "\n",
    "The solution is an escape character. The backslash (`\\`) character is used to escape characters that otherwise have a special meaning, such as newline, backslash itself, or the quote character. \n",
    "\n",
    "Excute the following code. "
   ]
  },
  {
   "cell_type": "code",
   "execution_count": null,
   "metadata": {
    "collapsed": false
   },
   "outputs": [],
   "source": [
    "print 'Either a matching \\' or a matching \\\" is used as a string delimiter'\n",
    "\n",
    "print \"Please: \\n change line!\""
   ]
  },
  {
   "cell_type": "markdown",
   "metadata": {},
   "source": [
    "### The `None` value\n",
    "\n",
    "What about if there is no value?\n",
    "\n",
    "`None` is used to represent the absence of a value. The 'type' of `None` is -- well `NoneType`."
   ]
  },
  {
   "cell_type": "code",
   "execution_count": null,
   "metadata": {
    "collapsed": false
   },
   "outputs": [],
   "source": [
    "type(None)"
   ]
  },
  {
   "cell_type": "markdown",
   "metadata": {},
   "source": [
    "### Type conversions\n",
    "\n",
    "Sometimes it is necessary to change the data type of the value. As you have seen `'3' + '4' -> '34'` because `'3'` + `'4'` were of type `str`. What if our intension was to achieve `3 + 4 -> 7`? Then, we must first convert `'3'` to `3` and `'4'` to `4` before we add them.\n",
    "\n",
    "Use the folowing functions to convert types (note that you can convert only what is logically convertable; convert 'four' to '`int` will lead to error -- remember the computer is a computer, not a human!) \n",
    "\n",
    "<u>Type conversion commands</u>\n",
    "\n",
    "*Command*  | *Description*  \n",
    "----------:|-------------\n",
    "`int(x)`   | Returns an `int` constructed from a `float` or `str` x, or returns 0 if no arguments are given. For example: `int(3)` -> 3.\n",
    "`float(x)` | Returns a `float` constructed from an `int`, or a `str` x, or returns 0.0 if no arguments are given. For example: `float('3')` -> `3.0`.\n",
    "`str(x)`   | Returns a `str` version of x. For example: `str(3)` -> `'3'`.\n"
   ]
  },
  {
   "cell_type": "code",
   "execution_count": null,
   "metadata": {
    "collapsed": false
   },
   "outputs": [],
   "source": [
    "int(\"3\")"
   ]
  },
  {
   "cell_type": "code",
   "execution_count": null,
   "metadata": {
    "collapsed": false
   },
   "outputs": [],
   "source": [
    "# This returns 0.0\n",
    "float()"
   ]
  },
  {
   "cell_type": "code",
   "execution_count": null,
   "metadata": {
    "collapsed": false
   },
   "outputs": [],
   "source": [
    "# But this is wrong!\n",
    "float(\"Welcome\")"
   ]
  },
  {
   "cell_type": "markdown",
   "metadata": {},
   "source": [
    "-- [ToC](1.start.ipynb) --> Next: [Variables and assignment](1.2.variables.ipynb)"
   ]
  }
 ],
 "metadata": {
  "kernelspec": {
   "display_name": "Python 2",
   "language": "python",
   "name": "python2"
  },
  "language_info": {
   "codemirror_mode": {
    "name": "ipython",
    "version": 2
   },
   "file_extension": ".py",
   "mimetype": "text/x-python",
   "name": "python",
   "nbconvert_exporter": "python",
   "pygments_lexer": "ipython2",
   "version": "2.7.6"
  }
 },
 "nbformat": 4,
 "nbformat_minor": 1
}
