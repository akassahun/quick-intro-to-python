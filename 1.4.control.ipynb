{
 "cells": [
  {
   "cell_type": "markdown",
   "metadata": {},
   "source": [
    "# Control statements\n",
    "To use the climate data we have to evalute each one line of data (for instance, line 131529 in the above table); we must first split the comma separated values; we then have to **check** if it contains the data we need and evaluate it; then do so in a **loop** for all relevant lines: in short we need some control. How do we control if we need to excute subsequent statements, and how many time to excute them? \n",
    "\n",
    "- A **control statement** is a piece of code that determines if subsequent **indented block** of statements will be executed, and how often. In python there three control statements: `if`, `for` and `while`.\n",
    "- An **`if`** statement determines if the indented block of statements will be executed.\n",
    "- A **`for`** or a **`while`** statement is also called a “loop” and determines how often the indented block of statements will be executed.\n",
    "- A **indented block** is a region of code that is delimited by indenting it to the right. It is called **indentation**; there could be a control statement within a control statement; therefore, there could be an indentation within an indentation.\n",
    "\n",
    "*An essential data type for control statements*  is `bool`:  \n",
    "A **bool** is a data type (called Boolean) that represents truth and falsehood and can thus have only two values: `True` or `False`.  \n",
    "In python other varaibles can also be used to represent <a href=\"https://docs.python.org/2/library/stdtypes.html#truth-value-testing\">'truth value'</a>.*\n",
    "\n",
    "Operators for control statements\n",
    "- A **comparison operator** compares two values (which could be `int`, `float`, *etc.*) and returns a `bool` value (*i.e.* either `True` or `False`).\n",
    "\n",
    "- A **boolean operator** combines two `bool` values following the boolean algebra rules, and returns a `bool` value.\n",
    "\n"
   ]
  },
  {
   "cell_type": "markdown",
   "metadata": {},
   "source": [
    "Let's first try comparison and boolean operators before we use control statements. "
   ]
  },
  {
   "cell_type": "code",
   "execution_count": null,
   "metadata": {
    "collapsed": false
   },
   "outputs": [],
   "source": [
    "t = True\n",
    "f = False\n",
    "\n",
    "print 't:', t   # prints the value of variable t\n",
    "print 'f:', f   # prints the value of variable f"
   ]
  },
  {
   "cell_type": "code",
   "execution_count": null,
   "metadata": {
    "collapsed": false
   },
   "outputs": [],
   "source": [
    "# Boolean operators\n",
    "# Evaluating the boolean operation or \n",
    "print \"t or t=\", t or t    \n",
    "print \"t or f=\", t or f \n",
    "print \"f or f=\", f or f  "
   ]
  },
  {
   "cell_type": "code",
   "execution_count": null,
   "metadata": {
    "collapsed": true
   },
   "outputs": [],
   "source": [
    "# Evaluating the boolean operation and \n",
    "print \"t and t=\", t and t    \n",
    "print \"t and f=\", t and f \n",
    "print \"f and f=\", f and f  "
   ]
  },
  {
   "cell_type": "code",
   "execution_count": null,
   "metadata": {
    "collapsed": false
   },
   "outputs": [],
   "source": [
    "# Evaluating the boolean operation not \n",
    "print \"not t=\", not t    \n",
    "print \"not f=\", not f \n",
    "print"
   ]
  },
  {
   "cell_type": "code",
   "execution_count": null,
   "metadata": {
    "collapsed": true
   },
   "outputs": [],
   "source": [
    "# Comparison operators\n",
    "print \"Is 3 < 4:\",  3 < 4\n",
    "print \"Is 3 == 4:\", 3 == 4\n",
    "print \"Is 3 > 4:\",  3 > 4"
   ]
  },
  {
   "cell_type": "markdown",
   "metadata": {},
   "source": [
    "Below are the descriptions of most common comparison operators and the three boolean operators in python:\n",
    "\n",
    "<u>Comparison operators</u>\n",
    "\n",
    "*Operator* | *Description*  \n",
    "----:|---\n",
    "`==` | Is equal? For example: `3 == 4` returns `False`.\n",
    "`>`  | Is larger than? For example: `3 > 4` returns `False`.\n",
    "`<`  | Is smaller than? For example: `3 < 4` is `True`.\n",
    "`!=` | Is not equal to? (the opposite of ==) For example: `3 != 4` is `True`.\n",
    "`>=` | Is larger than or equal to? For example: `3 >= 4` is `True`.\n",
    "`<=` | Is smaller than or equal to? For example: `3 <= 4` is `True`.\n",
    "\n",
    "<u>Boolean operators</u>\n",
    "\n",
    "*Operator* | *Description*  \n",
    "-----:|---\n",
    "`or`  | A boolean algebra “or” operator that follow the following rule: (x or y) is True if x is True. If x is False but y is True, then (x or y) is still True. Otherwise (x or y) is False. (If you do not understand, then you need to refresh your boolean algebra.)\n",
    "`and` | A boolean algebra “and” that follow the following rule: (x and y) is True only if x is True and y is True.\n",
    "`not` | A boolean algebra “negations” that follow the following rule: (not x) is True if x is False and (not x) is False if x is True.\n",
    "\n"
   ]
  },
  {
   "cell_type": "markdown",
   "metadata": {},
   "source": [
    "## Control statements\n",
    "\n",
    "A control statement requires a **keyword** (which can be `if`, `for`, `while`), a **conditional expression** (built with values, variables, comparison operators and/or boolean operators) and an **indented block** of statements in the follwoing form:\n",
    "\n",
    "```python\n",
    "keyword condition:\n",
    "    statement\n",
    "    statement\n",
    "    ...\n",
    "```\n",
    "\n",
    "### The `if` statement\n",
    "\n",
    "We build an if statement using the following pattern:\n",
    "\n",
    "```python\n",
    "if condition:\n",
    "    statement\n",
    "    statement\n",
    "    ...\n",
    "elif condition:\n",
    "    statement\n",
    "    statement\n",
    "    ...\n",
    "elif condition:\n",
    "    statement\n",
    "    statement\n",
    "    ...\n",
    "...\n",
    "else condition:\n",
    "    statement\n",
    "    statement\n",
    "    ...\n",
    "```\n",
    "Notes:\n",
    "1. The if statement uses two additional keywords: **`elif`** and **`else`**. But, they are optional.\n",
    "2. The `if`, `elif`, and `else` clauses **must end with a colon (`:`)**. Note, you can add a comment after the colon (which will not be evaluated by the python interprator anyway).\n",
    "3. The colon (`:`) **should be followed by an indented block**; which is 1 or more statements indented to the right.\n",
    "4. The `if` statemet **must start with one `if` clause**; can have 0 or more 'elif' clauses; can have 0 or 1 `else` clause at the end.\n",
    "5. **Only one the clauses is excuted.**\n",
    "\n",
    "Example: Was the 1st of January 1901 a Sunday? (Note that according to our formula 0 is Sunday, 1 Monday, 2 Tuesday, etc.) \n",
    "\n",
    "```python\n",
    "if weekday == 0:\n",
    "    print \"Yes, January 1st 1901 was a Sunday\"\n",
    "```\n",
    "Or we may be more complete:\n",
    "\n",
    "```python\n",
    "if weekday == 0:\n",
    "    print \"Yes, January 1st 1901 was a Sunday\"\n",
    "else:\n",
    "    print \"No, January 1st 1901 was NOT a Sunday\"\n",
    "```\n",
    "\n",
    "**Exercise**:\n",
    "\n",
    "Write a python code using the `if`.. `elif` construct and the print statement that print the date of the week. "
   ]
  },
  {
   "cell_type": "code",
   "execution_count": null,
   "metadata": {
    "collapsed": true
   },
   "outputs": [],
   "source": [
    "# Hint: you need at least 5 elif clauses.\n",
    "# Write you code below the next line of code\n",
    "weekday == 3\n"
   ]
  },
  {
   "cell_type": "markdown",
   "metadata": {},
   "source": [
    "Exercise:\n",
    "\n",
    "Was the 1st of January 1901 a weekend day? "
   ]
  },
  {
   "cell_type": "code",
   "execution_count": null,
   "metadata": {
    "collapsed": true
   },
   "outputs": [],
   "source": [
    "# Hint: use both boolean and comparison operators\n",
    "# Write you code below\n"
   ]
  },
  {
   "cell_type": "markdown",
   "metadata": {},
   "source": [
    "### Lists and loops: The `for` statement\n",
    "\n",
    "Before we explain how to write a `for` statement we need to explain what lists are because a `for` loop loops over a list\n",
    "\n",
    "> *A **list** is a data type that represents a sequence of data values (which can be of any type, including `int`, `float`, `str` etc.) whereby each element of the sequence is assigned an index number starting with 0.* \n",
    "\n",
    "> *A list is delimited by two square brackets and is elements can be accessed using thier indexes. For instance, the value [1, 10, 100, 1000] is a list of four `int` values (note that the index of 1 is 0, of the index of 10 is 1, etc.). [True, False] is also a list with two 'boo' values. [1901, 2.4] is likewise a list containing an `int` and a `float`.*\n",
    "\n",
    "We build a `for` loop using the following pattern:\n",
    "\n",
    "```python\n",
    "for aVariable in aList:\n",
    "\tstatement\n",
    "    statement\n",
    "    ...\n",
    "```\n",
    "Example: the following code prints the indeces and names of the days of the week   "
   ]
  },
  {
   "cell_type": "code",
   "execution_count": null,
   "metadata": {
    "collapsed": false
   },
   "outputs": [],
   "source": [
    "daysOfWeekIndices = [0, 1, 2, 3, 4, 5, 6]\n",
    "daysOfWeek = ['Sunday',\n",
    "              'Monday',\n",
    "              'Tuesday',\n",
    "              'Wednesday',\n",
    "              'Thursday',\n",
    "              'Friday',\n",
    "              'Saturday']\n",
    "\n",
    "for index in daysOfWeekIndices:\n",
    "    print index, daysOfWeek[index]"
   ]
  },
  {
   "cell_type": "markdown",
   "metadata": {},
   "source": [
    "We build a `while` loop using the following pattern:\n",
    "\n",
    "```python\n",
    "while condition:\n",
    "    statement\n",
    "    statement\n",
    "    ...\n",
    "```\n",
    "Example: the following code prints the indeces and names of the days of the week "
   ]
  },
  {
   "cell_type": "code",
   "execution_count": null,
   "metadata": {
    "collapsed": false
   },
   "outputs": [],
   "source": [
    "daysOfWeekIndices = [0, 1, 2, 3, 4, 5, 6]\n",
    "daysOfWeek = ['Sunday',\n",
    "              'Monday',\n",
    "              'Tuesday',\n",
    "              'Wednesday',\n",
    "              'Thursday',\n",
    "              'Friday',\n",
    "              'Saturday']\n",
    "\n",
    "index = 0\n",
    "\n",
    "while index < 7:\n",
    "    print index, daysOfWeek[index]\n",
    "    index = index + 1  # NOTE: WE INCREMENT THE INDEX"
   ]
  },
  {
   "cell_type": "markdown",
   "metadata": {},
   "source": [
    "Previous: [Comments](1.3.omments.ipynb)<-- [ToC](1.start.ipynb) --> Next: [Functions](1.5.functions.ipynb)"
   ]
  }
 ],
 "metadata": {
  "kernelspec": {
   "display_name": "Python 2",
   "language": "python",
   "name": "python2"
  },
  "language_info": {
   "codemirror_mode": {
    "name": "ipython",
    "version": 2
   },
   "file_extension": ".py",
   "mimetype": "text/x-python",
   "name": "python",
   "nbconvert_exporter": "python",
   "pygments_lexer": "ipython2",
   "version": "2.7.6"
  }
 },
 "nbformat": 4,
 "nbformat_minor": 1
}
