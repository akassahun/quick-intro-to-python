{
 "cells": [
  {
   "cell_type": "markdown",
   "metadata": {
    "collapsed": true
   },
   "source": [
    "# Challenge\n",
    "\n",
    "You are now ready to combine what you have learned so far into a useful Python script. \n",
    "\n",
    "The following code reads the data file 'data/knmi1901-2016-deBilt.txt', which contains weather data of De Bilt station from 1901 to 2016, and determines the maximum temperature ever recorded at this station.\n",
    "\n",
    "- Improve the code with some useful documentation\n",
    "- Extend the code, so that it prints the date and the day of the week of the date for which the maximum temperature was recorded. "
   ]
  },
  {
   "cell_type": "code",
   "execution_count": 29,
   "metadata": {
    "collapsed": false
   },
   "outputs": [
    {
     "name": "stdout",
     "output_type": "stream",
     "text": [
      "The maximum temprature ever recorded at de Bilt is 35.7\n"
     ]
    }
   ],
   "source": [
    "dataFile = open('data/knmi1901-2016-deBilt.txt', 'r')\n",
    "\n",
    "maxTemp = 0.0   # just an initialization\n",
    " \n",
    "# read data line by line\n",
    "for line in dataFile:\n",
    "    dayData = line.split(',')\n",
    "    txStr = dayData[14]\n",
    "    txStr.strip()\n",
    "    \n",
    "    if txStr != \"\":\n",
    "        tx10 = int(txStr)\n",
    "        tx = tx10*0.1\n",
    "        \n",
    "        if tx > maxTemp:\n",
    "            maxTemp = tx\n",
    "            \n",
    "print 'The maximum temprature ever recorded at de Bilt is', maxTemp"
   ]
  },
  {
   "cell_type": "markdown",
   "metadata": {},
   "source": [
    "Contratulations! If you are mede it so far, you ended Tutorial 0! \n",
    "Ask one of the teachers to chck your code!"
   ]
  },
  {
   "cell_type": "markdown",
   "metadata": {},
   "source": [
    "Previous: [Files](1.7.files.ipynb)<-- [ToC](1.start.ipynb) "
   ]
  }
 ],
 "metadata": {
  "kernelspec": {
   "display_name": "Python 2",
   "language": "python",
   "name": "python2"
  },
  "language_info": {
   "codemirror_mode": {
    "name": "ipython",
    "version": 2
   },
   "file_extension": ".py",
   "mimetype": "text/x-python",
   "name": "python",
   "nbconvert_exporter": "python",
   "pygments_lexer": "ipython2",
   "version": "2.7.6"
  }
 },
 "nbformat": 4,
 "nbformat_minor": 1
}
